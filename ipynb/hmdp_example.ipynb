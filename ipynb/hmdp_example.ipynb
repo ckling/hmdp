{
 "cells": [
  {
   "cell_type": "code",
   "execution_count": null,
   "metadata": {
    "collapsed": false
   },
   "outputs": [],
   "source": [
    "%run 'hmdp.ipynb'\n",
    "\n",
    "#directory of meta.txt and corpus.txt\n",
    "directory = \"/home/c/work/topicmodels/food_test/\";\n",
    "#the first value in meta.txt are Geographical coordinates\n",
    "#and we want to detect 1000 clusters\n",
    "meta_params = \"G(1000)\";\n",
    "#10 topics\n",
    "T = 25;\n",
    "#we only keep words which appear at least 2 times\n",
    "MIN_DICT_WORDS = 2;\n",
    "#run model\n",
    "\n",
    "hmdp = HMDP(directory, meta_params);\n",
    "hmdp.T = T;\n",
    "hmdp.MIN_DICT_WORDS = 2;\n",
    "hmdp.RUNS = 10;\n",
    "\n",
    "hmdp.run();\n",
    "\n",
    "hmdp.map_from_JSON();"
   ]
  },
  {
   "cell_type": "code",
   "execution_count": null,
   "metadata": {
    "collapsed": false
   },
   "outputs": [],
   "source": [
    "%run 'hmdp.ipynb'\n",
    "\n",
    "#directory of meta.txt and corpus.txt\n",
    "directory = \"/home/c/work/topicmodels/ml7_ordinal/\";\n",
    "#the first value in meta.txt are Geographical coordinates\n",
    "#and we want to detect 1000 clusters\n",
    "meta_params = \"O\";\n",
    "#10 topics\n",
    "T = 10;\n",
    "#we only keep words which appear at least 2 times\n",
    "MIN_DICT_WORDS = 2;\n",
    "#run model\n",
    "\n",
    "hmdp = HMDP(directory, meta_params);\n",
    "hmdp.T = T;\n",
    "hmdp.MIN_DICT_WORDS = 2;\n",
    "hmdp.RUNS = 10;\n",
    "\n",
    "#hmdp.run();\n",
    "\n",
    "hmdp.plot_ordinal(0);"
   ]
  },
  {
   "cell_type": "code",
   "execution_count": null,
   "metadata": {
    "collapsed": true
   },
   "outputs": [],
   "source": [
    "%run 'hmdp.ipynb'\n",
    "%matplotlib inline\n",
    "\n",
    "#directory of meta.txt and corpus.txt\n",
    "directory = \"/home/c/work/topicmodels/ml_test/\";\n",
    "#the first value in meta.txt are Geographical coordinates\n",
    "#and we want to detect 1000 clusters\n",
    "meta_params = \"G(1000)\";\n",
    "#10 topics\n",
    "T = 25;\n",
    "#we only keep words which appear at least 2 times\n",
    "MIN_DICT_WORDS = 2;\n",
    "#run model\n",
    "\n",
    "hmdp = HMDP(directory, meta_params);\n",
    "hmdp.T = T;\n",
    "hmdp.MIN_DICT_WORDS = 2;\n",
    "hmdp.RUNS = 10;\n",
    "\n",
    "#hmdp.run();\n",
    "\n",
    "#hmdp.plot_zeta();\n",
    "\n",
    "#print(hmdp.get_command());\n",
    "\n",
    "#hmdp.map_from_JSON();\n",
    "\n",
    "df = hmdp.get_topics();\n",
    "\n",
    "display(hmdp.plot_time(2));"
   ]
  }
 ],
 "metadata": {
  "kernelspec": {
   "display_name": "Python 3",
   "language": "python",
   "name": "python3"
  },
  "language_info": {
   "codemirror_mode": {
    "name": "ipython",
    "version": 3
   },
   "file_extension": ".py",
   "mimetype": "text/x-python",
   "name": "python",
   "nbconvert_exporter": "python",
   "pygments_lexer": "ipython3",
   "version": "3.5.3"
  },
  "widgets": {
   "state": {},
   "version": "1.1.1"
  }
 },
 "nbformat": 4,
 "nbformat_minor": 0
}
